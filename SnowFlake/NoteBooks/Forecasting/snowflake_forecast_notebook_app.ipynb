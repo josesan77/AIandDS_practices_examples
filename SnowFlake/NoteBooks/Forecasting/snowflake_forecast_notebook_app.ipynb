{
 "metadata": {
  "kernelspec": {
   "display_name": "Streamlit Notebook",
   "name": "streamlit"
  }
 },
 "nbformat_minor": 5,
 "nbformat": 4,
 "cells": [
  {
   "cell_type": "code",
   "id": "3775908f-ca36-4846-8f38-5adca39217f2",
   "metadata": {
    "language": "sql",
    "name": "cell0",
    "collapsed": false
   },
   "source": "-- This is your Cortex Project.\n----------------------------------------------------------\n-- SETUP\n-----------------------------------------------------------\nuse role ACCOUNTADMIN;\nuse warehouse COMPUTE_WH;\nuse database EPRODUCT;\nuse schema PUBLIC;",
   "execution_count": null,
   "outputs": []
  },
  {
   "cell_type": "code",
   "id": "748198c9-6c33-474f-8416-a2e7d2b49dde",
   "metadata": {
    "language": "python",
    "name": "cell1"
   },
   "outputs": [],
   "source": "-- Inspect the first 10 rows of your training data.\n-- This is the data we'll use to create your model.\n-- select * from ELECTRIC_PRODUCTION limit 10;\n\n-- Prepare your training data. Timestamp_ntz is a required format.\n-- Also, only include select columns.\n    \nCREATE VIEW ELECTRIC_PRODUCTION_v1 AS SELECT\n    to_timestamp_ntz(DATE) as DATE_v1,\n    IPG2211A2N\nFROM ELECTRIC_PRODUCTION;",
   "execution_count": null
  },
  {
   "cell_type": "code",
   "id": "8d50cbf4-0c8d-4950-86cb-114990437ac9",
   "metadata": {
    "language": "sql",
    "name": "cell2",
    "collapsed": false
   },
   "source": "select * from ELECTRIC_PRODUCTION limit 10;",
   "execution_count": null,
   "outputs": []
  },
  {
   "cell_type": "code",
   "id": "861dc81b-09d0-4b5c-8b91-88a04b8468d5",
   "metadata": {
    "language": "sql",
    "name": "cell3",
    "collapsed": false
   },
   "outputs": [],
   "source": "SELECT * FROM ELECTRIC_PRODUCTION_v1;",
   "execution_count": null
  },
  {
   "cell_type": "markdown",
   "id": "d1448ad2-6534-422f-a2d2-786d18f5a2bb",
   "metadata": {
    "name": "cell4",
    "collapsed": false
   },
   "source": "- CREATE PREDICTIONS\n- Create your model."
  },
  {
   "cell_type": "code",
   "id": "c695373e-ac74-4b62-a1f1-08206cbd5c81",
   "metadata": {
    "language": "sql",
    "name": "cell5",
    "collapsed": false,
    "codeCollapsed": false
   },
   "source": "CREATE SNOWFLAKE.ML.FORECAST eProduct_forecast_model(\n    INPUT_DATA => SYSTEM$REFERENCE('VIEW', 'ELECTRIC_PRODUCTION_v1'),\n    TIMESTAMP_COLNAME => 'DATE_v1',\n    TARGET_COLNAME => 'IPG2211A2N'\n);",
   "execution_count": null,
   "outputs": []
  },
  {
   "cell_type": "code",
   "id": "c986419a-1f1a-4c23-bf6b-3ae2725fb2e9",
   "metadata": {
    "language": "sql",
    "name": "cell106"
   },
   "outputs": [],
   "source": "from snowflake.ml.registry import Registry\nreg = Registry(session=sp_session, database_name=\"ML\", schema_name=\"REGISTRY\")",
   "execution_count": null
  },
  {
   "cell_type": "code",
   "id": "8e094a71-4b0f-47ea-9a92-2096bacd90d4",
   "metadata": {
    "language": "sql",
    "name": "cell7",
    "collapsed": false
   },
   "outputs": [],
   "source": "call eProduct_forecast_model!FORECAST(FORECASTING_PERIODS => 14);",
   "execution_count": null
  },
  {
   "cell_type": "code",
   "id": "7f69fb8f-86ea-44db-9a11-178989d7b96e",
   "metadata": {
    "language": "sql",
    "name": "cell8",
    "collapsed": false
   },
   "outputs": [],
   "source": "SHOW SNOWFLAKE.ML.FORECAST INSTANCES",
   "execution_count": null
  },
  {
   "cell_type": "code",
   "id": "8da7ef86-0029-4207-97f5-8fa94091e2ee",
   "metadata": {
    "language": "sql",
    "name": "cell9",
    "collapsed": false
   },
   "outputs": [],
   "source": "CREATE TABLE my_forecasts_eProduct AS\nSELECT * FROM TABLE(EPRODUCT_FORECAST_MODEL!FORECAST(FORECASTING_PERIODS => 14, CONFIG_OBJECT => {'prediction_interval': 0.95}));",
   "execution_count": null
  },
  {
   "cell_type": "code",
   "id": "8f04fae5-9e91-4237-bdaa-82110470978f",
   "metadata": {
    "language": "sql",
    "name": "cell10",
    "collapsed": false
   },
   "outputs": [],
   "source": "BEGIN\n    call eProduct_forecast_model!FORECAST(FORECASTING_PERIODS => 14);\n    LET x := SQLID\n    CREATE TABLE My_forecasts_2024_11_04 AS SELECT * FROM TABLE(RESULT_SCAN(:x));\nEND;",
   "execution_count": null
  },
  {
   "cell_type": "code",
   "id": "a68c1c62-e9bd-4749-9726-db66e817a320",
   "metadata": {
    "language": "sql",
    "name": "cell11",
    "collapsed": false
   },
   "outputs": [],
   "source": "-- View your predictions.\nSELECT * FROM my_forecasts_eProduct;",
   "execution_count": null
  },
  {
   "cell_type": "code",
   "id": "03305285-4306-4dad-8119-1b00d12cb3ea",
   "metadata": {
    "language": "sql",
    "name": "cell12",
    "collapsed": false
   },
   "outputs": [],
   "source": "DESC TABLE my_forecasts_eProduct;",
   "execution_count": null
  },
  {
   "cell_type": "code",
   "id": "21c43c4b-3eea-4901-928c-661a378516c0",
   "metadata": {
    "language": "python",
    "name": "cell13",
    "collapsed": false
   },
   "outputs": [],
   "source": "# Import python packages, pandas for easy data handling\nimport pandas as pd\n\n# We can also use Snowpark for our analyses!\n# With session we can use SQL query data immediately (see 2 cells below)\nfrom snowflake.snowpark.context import get_active_session\nsession = get_active_session()",
   "execution_count": null
  },
  {
   "cell_type": "code",
   "id": "c616c518-6ba5-4d5f-8e9d-ffd54727ec66",
   "metadata": {
    "language": "sql",
    "name": "cell14",
    "collapsed": false
   },
   "outputs": [],
   "source": "-- Union your predictions with your historical data, then view the results in a chart.\nSELECT DATE, IPG2211A2N AS actual, NULL AS forecast, NULL AS lower_bound, NULL AS upper_bound\n    FROM ELECTRIC_PRODUCTION\nUNION ALL\nSELECT ts as DATE, NULL AS actual, forecast, lower_bound, upper_bound\n    FROM my_forecasts_eProduct;",
   "execution_count": null
  },
  {
   "cell_type": "code",
   "id": "e010226c-a74c-4ca0-a7ad-d3d3ddb3c3a6",
   "metadata": {
    "language": "python",
    "name": "cell15",
    "collapsed": false
   },
   "outputs": [],
   "source": "# Easiest way to read data from SQL query results using \n# session data from above. Converting to a pandas dataframe \n# type variable works only if:\n# 1) session is loaded (see get_session() command 2 cells above!)\n# 2) a table is formed in a previous step (cell) and cellNo is \n# properly defined below:\nmy_forecast_df = cell14.to_pandas()\nmy_forecast_df",
   "execution_count": null
  },
  {
   "cell_type": "code",
   "id": "f65a2dfd-56d1-4c5f-bdc9-ece851aee264",
   "metadata": {
    "language": "python",
    "name": "cell16",
    "collapsed": false
   },
   "outputs": [],
   "source": "#checking the 'DATE' column's data format.\n# It should be Datetime or Timestamp for proper time based plotting\ntype(my_forecast_df['DATE'][0])",
   "execution_count": null
  },
  {
   "cell_type": "code",
   "id": "f4dcde73-f880-4c29-9c1a-2303ecac2ccc",
   "metadata": {
    "language": "python",
    "name": "cell17",
    "collapsed": false
   },
   "outputs": [],
   "source": "#a way to convert data to Datetime format (if needed)\ndatetime_df = pd.to_datetime(my_forecast_df['DATE']).apply(lambda x: x.date())\ndatetime_df",
   "execution_count": null
  },
  {
   "cell_type": "code",
   "id": "e64a7e6b-74e7-48a0-9eb8-905b35405bf9",
   "metadata": {
    "language": "python",
    "name": "cell18",
    "collapsed": false
   },
   "outputs": [],
   "source": "# subsets of the full dataframe dataset may be selected\nplot_df = my_forecast_df[['DATE', 'ACTUAL']]\nplot_df",
   "execution_count": null
  },
  {
   "cell_type": "code",
   "id": "51265c78-22e0-4f0f-a563-befb81b429f6",
   "metadata": {
    "language": "python",
    "name": "cell19",
    "collapsed": false
   },
   "outputs": [],
   "source": "# chosing the 'ACTUAL' column values and\n# only a few from the beginning (head)\nmy_forecast_df['ACTUAL'].head()",
   "execution_count": null
  },
  {
   "cell_type": "code",
   "id": "cd7f6213-b534-469b-8efb-83e7bb3a38fe",
   "metadata": {
    "language": "python",
    "name": "cell20",
    "collapsed": false
   },
   "outputs": [],
   "source": "#import Altair python module for plotting\n# (in-built in SnowPark notebook, ...\n# other visualization module(s) should be installed first, see docs)\nimport altair as alt",
   "execution_count": null
  },
  {
   "cell_type": "code",
   "id": "b4d94b37-226c-4017-8a9c-dde77e52efeb",
   "metadata": {
    "language": "python",
    "name": "cell21",
    "collapsed": false
   },
   "outputs": [],
   "source": "alt.Chart(plot_df).mark_circle().encode(\n    x= \"DATE\",\n    y = \"ACTUAL\")",
   "execution_count": null
  },
  {
   "cell_type": "code",
   "id": "db1eebfa-1358-4772-95de-6f69e23bb80c",
   "metadata": {
    "language": "python",
    "name": "cell22",
    "collapsed": false
   },
   "outputs": [],
   "source": "base = alt.Chart(my_forecast_df).encode(x='DATE')\n\nalt.layer(\n    base.mark_line(color='gray').encode(y='ACTUAL'),\n    base.mark_line(color='red').encode(y='UPPER_BOUND'),\n    base.mark_line(color='blue').encode(y='LOWER_BOUND')\n)",
   "execution_count": null
  },
  {
   "cell_type": "code",
   "id": "5a276525-a4fc-4c27-87df-0f1b5ea91a31",
   "metadata": {
    "language": "python",
    "name": "cell23",
    "collapsed": false
   },
   "outputs": [],
   "source": "#my_forecast_df[['DATE', 'ACTUAL']]\nbase = alt.Chart(my_forecast_df.tail(30)).encode(x='DATE').properties(\n    title='Electronic Product - 14 days forecast'\n)\n\nalt.layer(\n    base.mark_line(color='gray').encode(y='ACTUAL'),\n    base.mark_line(color='red').encode(y='UPPER_BOUND'),\n    base.mark_line(color='blue').encode(y='LOWER_BOUND')\n)",
   "execution_count": null
  },
  {
   "cell_type": "markdown",
   "id": "65c82013-4896-4bb1-9323-4eb28933fade",
   "metadata": {
    "name": "cell24",
    "collapsed": false
   },
   "source": "As a final step\n# INSPECT RESULTS\n\n- Inspect the accuracy metrics of your model.\n- Inspect the relative importance of your features, including auto-generated features. "
  },
  {
   "cell_type": "code",
   "id": "240cd367-5471-43f1-a7af-e502c1e8da10",
   "metadata": {
    "language": "sql",
    "name": "cell25",
    "collapsed": false
   },
   "outputs": [],
   "source": "-- Inspect the accuracy metrics of your model.\nCALL eProduct_forecast_model!SHOW_EVALUATION_METRICS();",
   "execution_count": null
  },
  {
   "cell_type": "code",
   "id": "46111a1d-0e2b-4f16-8493-141f75d13488",
   "metadata": {
    "language": "sql",
    "name": "cell26",
    "collapsed": false
   },
   "outputs": [],
   "source": "-- Inspect the relative importance of your features, including auto-generated features. \nCALL eProduct_forecast_model!EXPLAIN_FEATURE_IMPORTANCE();",
   "execution_count": null
  }
 ]
}