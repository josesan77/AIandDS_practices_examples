{
 "metadata": {
  "kernelspec": {
   "display_name": "Streamlit Notebook",
   "name": "streamlit"
  }
 },
 "nbformat_minor": 5,
 "nbformat": 4,
 "cells": [
  {
   "cell_type": "markdown",
   "id": "ce482e6f-bf81-4857-b0ea-be81cc7b8d2e",
   "metadata": {
    "name": "cell1",
    "collapsed": false,
    "resultHeight": 266
   },
   "source": "# ML Forecast model(s)\nWe use the Snowflake Forecast Machine Learning (ML) model to predict Electric Production values. We will predict for 14 time units (this case months).\n\nSee further details on [Snowflake Time-series Forecasting](https://docs.snowflake.com/en/user-guide/ml-functions/forecasting) and [General Model Development](https://docs.snowflake.com/en/developer-guide/snowflake-ml/modeling).\n\nBelow mainly SQL is used for model training and prediction, but python alternatives are also given in cases where it is possible to use. Final data visualization requires python module and Altair was selected from available options, because this module is in-built for Notebook environment while others require installation, see [Snowflake Visualization options](https://docs.snowflake.com/en/user-guide/ui-snowsight-visualizations).\n\nFirst SQL environment is set by the following parameters:"
  },
  {
   "cell_type": "code",
   "id": "3775908f-ca36-4846-8f38-5adca39217f2",
   "metadata": {
    "language": "sql",
    "name": "cell2",
    "collapsed": false,
    "resultHeight": 111,
    "codeCollapsed": false
   },
   "source": "-- SQL SETUP ------------------\nuse role ACCOUNTADMIN;\nuse warehouse COMPUTE_WH;\nuse database EPRODUCT;\nuse schema PUBLIC;",
   "execution_count": null,
   "outputs": []
  },
  {
   "cell_type": "markdown",
   "id": "5dfc4805-15f0-4f47-b1d9-aefe22d75f55",
   "metadata": {
    "name": "cell3",
    "collapsed": false,
    "resultHeight": 150
   },
   "source": "Download the [Electric production data](https://www.kaggle.com/datasets/shenba/time-series-datasets?phase=FinishSSORegistration&returnUrl=/datasets/shenba/time-series-datasets/versions/1?resource=download&SSORegistrationToken=CfDJ8CXYA35d3CRDujxBNSrCTMubnmICTc2qhQ3tdqdUE5czuLbJUVQLuiFMRthJv_U7VUZ3kLsBhInfN4pHHka3EGnuwb2b5giXeU3secCI-3nFEOkc0hcaZMOw2xBZLO2JIagGq96E4SS9q3fAMnyAXTGg9OMcW_UNTJma7LlMjNt4oxNMm6IhgdBrTyS34dEq2SvGluLjhc0FUF1SCMvoIWBjiwbixOMib-OEWT2tOjIGBj1cK2O17XUQGA2bmxOq99D1ZDlBlGrbh7H-pUqRQ8SMMZlvtYooYo9xrQjLASOCKs1Xjs2PHabbi_n37WtAvu8RsaLXzDlUf6z7m8gbvXc3zg&DisplayName=Jozsef%20Orban) from *Kaggle* website (Kaggle, source data or mysource, Electric_Production.csv, 7.32 kB) and uploaded to Snowflake through Data / Add data / *Load files into a stage* option.\n\nCSV data after upload automatically is inserted to a table called 'ELECTRIC_PRODUCTION'. That table is referenced from now on in SQL queries.\n\nTable consist of a column 'IPG2211A2N' including the Production data (name originates from the csv file), and 'Date' as production date."
  },
  {
   "cell_type": "code",
   "id": "325fb4e0-791b-431b-9a67-e02b80eb59e1",
   "metadata": {
    "language": "sql",
    "name": "cell4",
    "collapsed": false,
    "resultHeight": 426,
    "codeCollapsed": false
   },
   "outputs": [],
   "source": "-- Inspect the first 10 rows of your training data.\n-- This is the data that we will use to create your model.\nSELECT * FROM ELECTRIC_PRODUCTION LIMIT 10;",
   "execution_count": null
  },
  {
   "cell_type": "markdown",
   "id": "3ec72b0d-f404-4670-96ed-ca8ea791696c",
   "metadata": {
    "name": "cell5",
    "collapsed": false,
    "resultHeight": 67
   },
   "source": "These values in the query table cannot be visualized directly, but we can do it using pandas DataFrames! The first step is to get the (current Notebook) session, extract data from the results in a cell (ran previously), then we can also use Snowpark for our analyses:"
  },
  {
   "cell_type": "code",
   "id": "c39b6a22-4d81-4e28-bebc-22bde7066e65",
   "metadata": {
    "language": "python",
    "name": "cell6",
    "collapsed": false,
    "resultHeight": 0,
    "codeCollapsed": false
   },
   "outputs": [],
   "source": "# With session we can use SQL query data immediately (see 2 cells below)\nfrom snowflake.snowpark.context import get_active_session\nsession = get_active_session()",
   "execution_count": null
  },
  {
   "cell_type": "code",
   "id": "ce1d56b4-28ba-41d9-a142-018e0f94231a",
   "metadata": {
    "language": "sql",
    "name": "cell7",
    "collapsed": false,
    "resultHeight": 438
   },
   "outputs": [],
   "source": "-- Let's query data again but now for the whole dataset to acces entire dataset through active session.\nSELECT * FROM ELECTRIC_PRODUCTION;",
   "execution_count": null
  },
  {
   "cell_type": "code",
   "id": "88c469ae-bfce-4c9d-968e-a72a100996ad",
   "metadata": {
    "language": "python",
    "name": "cell8",
    "collapsed": false,
    "resultHeight": 356,
    "codeCollapsed": false
   },
   "outputs": [],
   "source": "hist_data = cell7.to_pandas()\nhist_data.describe()",
   "execution_count": null
  },
  {
   "cell_type": "markdown",
   "id": "872ec64a-aabd-4f60-bc9d-5da0d477e628",
   "metadata": {
    "name": "cell9",
    "collapsed": false,
    "resultHeight": 153
   },
   "source": ".describe() function calculates the most important statistical values of a dataframe. It is better to create a plot to fully understand the data,... using Altair!\n\nThere are different types of Altair plots, now showing two cases\n- plot chart\n- line chart, which is better for this situation."
  },
  {
   "cell_type": "code",
   "id": "fdc7e725-6a2c-44f1-b534-8d0655022fe9",
   "metadata": {
    "language": "python",
    "name": "cell10",
    "collapsed": false,
    "resultHeight": 295,
    "codeCollapsed": false
   },
   "outputs": [],
   "source": "#import Altair python module for plotting (in-built in SnowPark notebook)\nimport altair as alt\nalt.Chart(hist_data).mark_circle().encode(\n    x= \"DATE\",\n    y = \"ACTUAL\")",
   "execution_count": null
  },
  {
   "cell_type": "code",
   "id": "f085a38a-e48e-4209-897f-99bc0b89b701",
   "metadata": {
    "language": "python",
    "name": "cell11",
    "collapsed": false,
    "resultHeight": 240,
    "codeCollapsed": false
   },
   "outputs": [],
   "source": "alt.Chart(hist_data).mark_line().encode(\n    x='DATE',\n    y='IPG2211A2N'\n)",
   "execution_count": null
  },
  {
   "cell_type": "code",
   "id": "748198c9-6c33-474f-8416-a2e7d2b49dde",
   "metadata": {
    "language": "sql",
    "name": "cell12",
    "collapsed": false,
    "resultHeight": 87,
    "codeCollapsed": false
   },
   "outputs": [],
   "source": "-- Prepare your training data. Timestamp_ntz is the required format for time values.\n-- Also, only include below selected DATE (converted to timestamp) and value ('IPG2211A2N') columns.\n    \nCREATE OR REPLACE VIEW ELECTRIC_PRODUCTION_v1 AS SELECT\n    to_timestamp_ntz(DATE) as DATE_v1,\n    IPG2211A2N\nFROM ELECTRIC_PRODUCTION;",
   "execution_count": null
  },
  {
   "cell_type": "markdown",
   "id": "15af57ba-f05a-46f4-b30b-0223350d5d0d",
   "metadata": {
    "name": "cell13",
    "collapsed": false,
    "resultHeight": 41
   },
   "source": "Check firts and last 10 rows from dataset."
  },
  {
   "cell_type": "code",
   "id": "8d50cbf4-0c8d-4950-86cb-114990437ac9",
   "metadata": {
    "language": "sql",
    "name": "cell13b",
    "collapsed": false,
    "resultHeight": 426,
    "codeCollapsed": false
   },
   "source": "SELECT * FROM ELECTRIC_PRODUCTION LIMIT 10;",
   "execution_count": null,
   "outputs": []
  },
  {
   "cell_type": "code",
   "id": "c60f8372-6df5-45e9-986b-761343452ece",
   "metadata": {
    "language": "sql",
    "name": "cell14",
    "collapsed": false,
    "resultHeight": 426
   },
   "outputs": [],
   "source": "SELECT * FROM ELECTRIC_PRODUCTION\nORDER BY DATE DESC LIMIT 10;",
   "execution_count": null
  },
  {
   "cell_type": "markdown",
   "id": "894a3f6a-7076-4566-b74e-93b1b90066ce",
   "metadata": {
    "name": "cell15",
    "collapsed": false,
    "resultHeight": 175
   },
   "source": "Checking the whole dataset it can be recognised that data has equidistant time steps (one value per month), which is the easiest situation for a forecast model to analyse. The latest date is 2018-01-01.\n\nFrom the plot; the data shows a saturation curve-like model with a fluctuation with defined periodicity in time. This is not a simple linear increase, neither a simple saturation curve, so it is an ideal case (dataset) for ML prediction.\n\nLet's find earliest and latest date to know the time range of the dataset along with the amount of rows. (1985-01-01, 2018-01-01, 397)"
  },
  {
   "cell_type": "code",
   "id": "280ba39b-8224-47a8-bde1-3436673fdd0e",
   "metadata": {
    "language": "sql",
    "name": "cell16",
    "collapsed": false,
    "resultHeight": 111,
    "codeCollapsed": false
   },
   "outputs": [],
   "source": "SELECT MIN(DATE), MAX(DATE), COUNT(*)\nFROM ELECTRIC_PRODUCTION;",
   "execution_count": null
  },
  {
   "cell_type": "markdown",
   "id": "d1448ad2-6534-422f-a2d2-786d18f5a2bb",
   "metadata": {
    "name": "cell17",
    "collapsed": false,
    "resultHeight": 105
   },
   "source": "## CREATE PREDICTIONS\n- Create your model (using SQL to call SNOWFLAKE.ML.FORECAST library)."
  },
  {
   "cell_type": "code",
   "id": "c695373e-ac74-4b62-a1f1-08206cbd5c81",
   "metadata": {
    "language": "sql",
    "name": "cell18",
    "collapsed": false,
    "codeCollapsed": false
   },
   "source": "CREATE SNOWFLAKE.ML.FORECAST eProduct_forecast_model(\n    INPUT_DATA => SYSTEM$REFERENCE('VIEW', 'ELECTRIC_PRODUCTION_v1'),\n    TIMESTAMP_COLNAME => 'DATE_v1',\n    TARGET_COLNAME => 'IPG2211A2N'\n);",
   "execution_count": null,
   "outputs": []
  },
  {
   "cell_type": "code",
   "id": "c986419a-1f1a-4c23-bf6b-3ae2725fb2e9",
   "metadata": {
    "language": "python",
    "name": "cell19",
    "collapsed": false,
    "resultHeight": 87
   },
   "outputs": [],
   "source": "# not required to run only in special cases\nfrom snowflake.ml.registry import Registry\nreg = Registry(session=sp_session, database_name=\"ML\", schema_name=\"REGISTRY\")",
   "execution_count": null
  },
  {
   "cell_type": "code",
   "id": "7f69fb8f-86ea-44db-9a11-178989d7b96e",
   "metadata": {
    "language": "sql",
    "name": "cell20",
    "collapsed": false
   },
   "outputs": [],
   "source": "-- to verify whether the model has been instanciated (created)\nSHOW SNOWFLAKE.ML.FORECAST INSTANCES",
   "execution_count": null
  },
  {
   "cell_type": "code",
   "id": "8da7ef86-0029-4207-97f5-8fa94091e2ee",
   "metadata": {
    "language": "sql",
    "name": "cell21",
    "collapsed": false
   },
   "outputs": [],
   "source": "CREATE TABLE my_forecasts_eProduct AS\nSELECT * FROM TABLE(EPRODUCT_FORECAST_MODEL!FORECAST(FORECASTING_PERIODS => 14, CONFIG_OBJECT => {'prediction_interval': 0.95}));",
   "execution_count": null
  },
  {
   "cell_type": "code",
   "id": "8f04fae5-9e91-4237-bdaa-82110470978f",
   "metadata": {
    "language": "sql",
    "name": "cell22",
    "collapsed": false
   },
   "outputs": [],
   "source": "-- run only if above code does not function!\nBEGIN\n    call eProduct_forecast_model!FORECAST(FORECASTING_PERIODS => 14);\n    LET x := SQLID\n    CREATE TABLE My_forecasts_2024_11_04 AS SELECT * FROM TABLE(RESULT_SCAN(:x));\nEND;",
   "execution_count": null
  },
  {
   "cell_type": "code",
   "id": "a68c1c62-e9bd-4749-9726-db66e817a320",
   "metadata": {
    "language": "sql",
    "name": "cell23",
    "collapsed": false
   },
   "outputs": [],
   "source": "-- View your predictions.\nSELECT * FROM my_forecasts_eProduct;",
   "execution_count": null
  },
  {
   "cell_type": "code",
   "id": "03305285-4306-4dad-8119-1b00d12cb3ea",
   "metadata": {
    "language": "sql",
    "name": "cell24",
    "collapsed": false
   },
   "outputs": [],
   "source": "DESC TABLE my_forecasts_eProduct;",
   "execution_count": null
  },
  {
   "cell_type": "code",
   "id": "21c43c4b-3eea-4901-928c-661a378516c0",
   "metadata": {
    "language": "python",
    "name": "cell25",
    "collapsed": false,
    "resultHeight": 0
   },
   "outputs": [],
   "source": "# Import python packages, pandas for easy data handling\nimport pandas as pd",
   "execution_count": null
  },
  {
   "cell_type": "code",
   "id": "c616c518-6ba5-4d5f-8e9d-ffd54727ec66",
   "metadata": {
    "language": "sql",
    "name": "cell26",
    "collapsed": false
   },
   "outputs": [],
   "source": "-- Union your predictions with your historical data, then view the results in a chart.\nSELECT DATE, IPG2211A2N AS actual, NULL AS forecast, NULL AS lower_bound, NULL AS upper_bound\n    FROM ELECTRIC_PRODUCTION\nUNION ALL\nSELECT ts as DATE, NULL AS actual, forecast, lower_bound, upper_bound\n    FROM my_forecasts_eProduct;",
   "execution_count": null
  },
  {
   "cell_type": "code",
   "id": "e010226c-a74c-4ca0-a7ad-d3d3ddb3c3a6",
   "metadata": {
    "language": "python",
    "name": "cell27",
    "collapsed": false
   },
   "outputs": [],
   "source": "# Easiest way to read data from SQL query results using \n# session data from above. Converting to a pandas dataframe \n# type variable works only if:\n# 1) session is loaded (see get_session() command 2 cells above!)\n# 2) a table is formed in a previous step (cell) and cellNo is \n# properly defined below:\nmy_forecast_df = cell26.to_pandas()\nmy_forecast_df",
   "execution_count": null
  },
  {
   "cell_type": "code",
   "id": "f65a2dfd-56d1-4c5f-bdc9-ece851aee264",
   "metadata": {
    "language": "python",
    "name": "cell28",
    "collapsed": false
   },
   "outputs": [],
   "source": "#checking the 'DATE' column's data format.\n# It should be Datetime or Timestamp for proper time based plotting\ntype(my_forecast_df['DATE'][0])",
   "execution_count": null
  },
  {
   "cell_type": "code",
   "id": "f4dcde73-f880-4c29-9c1a-2303ecac2ccc",
   "metadata": {
    "language": "python",
    "name": "cell29",
    "collapsed": false
   },
   "outputs": [],
   "source": "#a way to convert data to Datetime format (if needed)\ndatetime_df = pd.to_datetime(my_forecast_df['DATE']).apply(lambda x: x.date())\ndatetime_df",
   "execution_count": null
  },
  {
   "cell_type": "code",
   "id": "e64a7e6b-74e7-48a0-9eb8-905b35405bf9",
   "metadata": {
    "language": "python",
    "name": "cell30",
    "collapsed": false
   },
   "outputs": [],
   "source": "# subsets of the full dataframe dataset may be selected\nplot_df = my_forecast_df[['DATE', 'ACTUAL']]\nplot_df",
   "execution_count": null
  },
  {
   "cell_type": "code",
   "id": "51265c78-22e0-4f0f-a563-befb81b429f6",
   "metadata": {
    "language": "python",
    "name": "cell31",
    "collapsed": false
   },
   "outputs": [],
   "source": "# chosing the 'ACTUAL' column values and\n# only a few from the beginning (head)\nmy_forecast_df['ACTUAL'].head()",
   "execution_count": null
  },
  {
   "cell_type": "code",
   "id": "cd7f6213-b534-469b-8efb-83e7bb3a38fe",
   "metadata": {
    "language": "python",
    "name": "cell32",
    "collapsed": false
   },
   "outputs": [],
   "source": "#import Altair python module for plotting\n# (in-built in SnowPark notebook, ...\n# other visualization module(s) should be installed first, see docs)\nimport altair as alt",
   "execution_count": null
  },
  {
   "cell_type": "code",
   "id": "b4d94b37-226c-4017-8a9c-dde77e52efeb",
   "metadata": {
    "language": "python",
    "name": "cell33",
    "collapsed": false
   },
   "outputs": [],
   "source": "alt.Chart(plot_df).mark_circle().encode(\n    x= \"DATE\",\n    y = \"ACTUAL\")",
   "execution_count": null
  },
  {
   "cell_type": "code",
   "id": "db1eebfa-1358-4772-95de-6f69e23bb80c",
   "metadata": {
    "language": "python",
    "name": "cell34",
    "collapsed": false
   },
   "outputs": [],
   "source": "base = alt.Chart(my_forecast_df).encode(x='DATE')\n\nalt.layer(\n    base.mark_line(color='gray').encode(y='ACTUAL'),\n    base.mark_line(color='red').encode(y='UPPER_BOUND'),\n    base.mark_line(color='blue').encode(y='LOWER_BOUND')\n)",
   "execution_count": null
  },
  {
   "cell_type": "code",
   "id": "5a276525-a4fc-4c27-87df-0f1b5ea91a31",
   "metadata": {
    "language": "python",
    "name": "cell35",
    "collapsed": false
   },
   "outputs": [],
   "source": "#my_forecast_df[['DATE', 'ACTUAL']]\nbase = alt.Chart(my_forecast_df.tail(30)).encode(x='DATE').properties(\n    title='Electronic Product - 14 days forecast'\n)\n\nalt.layer(\n    base.mark_line(color='gray').encode(y='ACTUAL'),\n    base.mark_line(color='red').encode(y='UPPER_BOUND'),\n    base.mark_line(color='blue').encode(y='LOWER_BOUND')\n)",
   "execution_count": null
  },
  {
   "cell_type": "markdown",
   "id": "65c82013-4896-4bb1-9323-4eb28933fade",
   "metadata": {
    "name": "cell36",
    "collapsed": false,
    "resultHeight": 189
   },
   "source": "As a final step\n# INSPECT RESULTS\n\n- Inspect the accuracy metrics of your model.\n- Inspect the relative importance of your features, including auto-generated features. "
  },
  {
   "cell_type": "code",
   "id": "240cd367-5471-43f1-a7af-e502c1e8da10",
   "metadata": {
    "language": "sql",
    "name": "cell37",
    "collapsed": false
   },
   "outputs": [],
   "source": "-- Inspect the accuracy metrics of your model.\nCALL eProduct_forecast_model!SHOW_EVALUATION_METRICS();",
   "execution_count": null
  },
  {
   "cell_type": "code",
   "id": "46111a1d-0e2b-4f16-8493-141f75d13488",
   "metadata": {
    "language": "sql",
    "name": "cell38",
    "collapsed": false
   },
   "outputs": [],
   "source": "-- Inspect the relative importance of your features, including auto-generated features. \nCALL eProduct_forecast_model!EXPLAIN_FEATURE_IMPORTANCE();",
   "execution_count": null
  },
  {
   "cell_type": "markdown",
   "id": "41b86e91-b9f8-49cd-b6f3-01634a73f6a9",
   "metadata": {
    "name": "cell39",
    "collapsed": false,
    "resultHeight": 115
   },
   "source": "# Test for known values\nLet's roll back time and act like we don't know the last 10 values of the dataset. We remove last values to train our ML Forecast model."
  },
  {
   "cell_type": "code",
   "id": "15545faa-9c42-493b-9d4e-f5796d3ea454",
   "metadata": {
    "language": "sql",
    "name": "cell40",
    "collapsed": false,
    "codeCollapsed": false,
    "resultHeight": 111
   },
   "outputs": [],
   "source": "CREATE OR REPLACE VIEW ELECTRIC_PRODUCTION_v2 AS SELECT\n    to_timestamp_ntz(DATE) as DATE_v2,\n    IPG2211A2N\nFROM ELECTRIC_PRODUCTION\nWHERE DATE < '2017-04-01';",
   "execution_count": null
  },
  {
   "cell_type": "code",
   "id": "80f87656-a1d0-41f7-a211-7487de5819fd",
   "metadata": {
    "language": "sql",
    "name": "cell41",
    "collapsed": false,
    "resultHeight": 426
   },
   "outputs": [],
   "source": "SELECT * FROM ELECTRIC_PRODUCTION_v2\nORDER BY date_v2 DESC limit 10;",
   "execution_count": null
  },
  {
   "cell_type": "markdown",
   "id": "d3355464-f87c-4d88-b01a-0e4b57971f80",
   "metadata": {
    "name": "cell42",
    "collapsed": false,
    "resultHeight": 60
   },
   "source": "## Create model & predicitions"
  },
  {
   "cell_type": "code",
   "id": "f0eaca4f-480c-462c-9784-f9363a7be7da",
   "metadata": {
    "language": "sql",
    "name": "cell43",
    "collapsed": false,
    "codeCollapsed": false,
    "resultHeight": 111
   },
   "outputs": [],
   "source": "CREATE OR REPLACE SNOWFLAKE.ML.FORECAST eProduct_forecast_model2(\n    INPUT_DATA => SYSTEM$REFERENCE('VIEW', 'ELECTRIC_PRODUCTION_v2'),\n    TIMESTAMP_COLNAME => 'DATE_v2',\n    TARGET_COLNAME => 'IPG2211A2N'\n);",
   "execution_count": null
  },
  {
   "cell_type": "code",
   "id": "084215f6-a85d-482a-babb-6ce2afa1cd0d",
   "metadata": {
    "language": "sql",
    "name": "cell44",
    "collapsed": false,
    "resultHeight": 146
   },
   "outputs": [],
   "source": "SHOW SNOWFLAKE.ML.FORECAST INSTANCES",
   "execution_count": null
  },
  {
   "cell_type": "markdown",
   "id": "001a9b69-5cf6-49ec-87e3-cb453a996622",
   "metadata": {
    "name": "cell45",
    "collapsed": false,
    "resultHeight": 41
   },
   "source": "session.call is not yet compatible with models created by ML functions. To call such a model in Snowpark\nhttps://docs.snowflake.com/en/guides-overview-ml-functions"
  },
  {
   "cell_type": "code",
   "id": "c1c0f4ea-2735-4adb-86d6-5da481df715c",
   "metadata": {
    "language": "python",
    "name": "cell46",
    "collapsed": false,
    "resultHeight": 87
   },
   "outputs": [],
   "source": "# Run only in case SQL query doesn not work for forecasting!\nfrom snowflake.ml.registry import Registry\nreg = Registry(session=sp_session, database_name=\"ML\", schema_name=\"REGISTRY\")\n# instead of direct call like:\n# call eProduct_forecast_model2!FORECAST(FORECASTING_PERIODS => 14)'\n# use this instead:\nsession.sql('call eProduct_forecast_model2!FORECAST(FORECASTING_PERIODS => 14)').collect();",
   "execution_count": null
  },
  {
   "cell_type": "code",
   "id": "d1c10f23-8099-410e-813b-679f6dea335d",
   "metadata": {
    "language": "sql",
    "name": "cell47",
    "collapsed": false,
    "resultHeight": 111
   },
   "outputs": [],
   "source": "CREATE TABLE my_forecasts_eProduct2 AS\nSELECT * FROM TABLE(EPRODUCT_FORECAST_MODEL2!FORECAST(FORECASTING_PERIODS => 14, CONFIG_OBJECT => {'prediction_interval': 0.95}));",
   "execution_count": null
  },
  {
   "cell_type": "code",
   "id": "77089286-f809-471e-a88b-1d8524dc9b6d",
   "metadata": {
    "language": "sql",
    "name": "cell48",
    "collapsed": false,
    "resultHeight": 87
   },
   "outputs": [],
   "source": "-- A SQL function based SOLUTION to forecast. Use only if above cell did not succeed!\nBEGIN\n    call eProduct_forecast_model2!FORECAST(FORECASTING_PERIODS => 14);\n    LET x := SQLID\n    CREATE TABLE My_forecasts_2024_11_27 AS SELECT * FROM TABLE(RESULT_SCAN(:x));\nEND;",
   "execution_count": null
  },
  {
   "cell_type": "code",
   "id": "4a6529a3-3473-4cad-b276-3ad223a23de5",
   "metadata": {
    "language": "python",
    "name": "cell49",
    "collapsed": false,
    "resultHeight": 0
   },
   "outputs": [],
   "source": "#repeating import just to be sure that it would work in next step \nfrom snowflake.snowpark.context import get_active_session\nsession = get_active_session()",
   "execution_count": null
  },
  {
   "cell_type": "code",
   "id": "9bcd8adf-823a-4baa-8528-46fef9dda5cd",
   "metadata": {
    "language": "sql",
    "name": "cell50",
    "collapsed": false,
    "resultHeight": 438
   },
   "outputs": [],
   "source": "SELECT DATE, IPG2211A2N AS actual, NULL AS forecast, NULL AS lower_bound, NULL AS upper_bound\n    FROM ELECTRIC_PRODUCTION\nUNION ALL\nSELECT ts as DATE, NULL AS actual, forecast, lower_bound, upper_bound\n    FROM my_forecasts_eProduct2;",
   "execution_count": null
  },
  {
   "cell_type": "code",
   "id": "3b35a0b5-1739-4fb6-aa9d-ea4b3a15c2ee",
   "metadata": {
    "language": "python",
    "name": "cell51",
    "collapsed": false,
    "resultHeight": 438
   },
   "outputs": [],
   "source": "my_forecast_df2 = cell50.to_pandas()\nmy_forecast_df2",
   "execution_count": null
  },
  {
   "cell_type": "code",
   "id": "2e545e3e-1af9-40db-a5ae-f083f95aeb0c",
   "metadata": {
    "language": "python",
    "name": "cell52",
    "collapsed": false,
    "resultHeight": 426
   },
   "outputs": [],
   "source": "my_forecast_df2.tail(19).head(10)",
   "execution_count": null
  },
  {
   "cell_type": "code",
   "id": "a3448a98-3f1e-4367-8e61-57b637e0424e",
   "metadata": {
    "language": "python",
    "name": "cell53",
    "collapsed": false,
    "resultHeight": 356
   },
   "outputs": [],
   "source": "my_forecast_df2.describe()",
   "execution_count": null
  },
  {
   "cell_type": "markdown",
   "id": "72fb7d12-8962-45c8-bdac-d02e0082c0d7",
   "metadata": {
    "name": "cell54",
    "collapsed": false,
    "resultHeight": 67
   },
   "source": "Recombine (merge) real hisorical data points cut off previously with the data used for modeling; unite the whole known dataset. First, get the last 12 values to fill in the predicted dataset's 'ACTUAL' column."
  },
  {
   "cell_type": "code",
   "id": "1747e41f-1303-4f54-8b3a-892a31d192b9",
   "metadata": {
    "language": "sql",
    "name": "cell55",
    "collapsed": false,
    "codeCollapsed": false,
    "resultHeight": 438
   },
   "outputs": [],
   "source": "SELECT DATE, IPG2211A2N FROM ELECTRIC_PRODUCTION\nORDER BY DATE DESC\nLIMIT 12;",
   "execution_count": null
  },
  {
   "cell_type": "code",
   "id": "4a8135cd-20f5-4781-bf9c-61f1c20773ba",
   "metadata": {
    "language": "python",
    "name": "cell56",
    "collapsed": false,
    "resultHeight": 438
   },
   "outputs": [],
   "source": "hist_data_end = cell55.to_pandas()\nhist_data_end",
   "execution_count": null
  },
  {
   "cell_type": "code",
   "id": "81f311b2-f85b-4bc5-a4df-bde446f5944a",
   "metadata": {
    "language": "python",
    "name": "cell57",
    "collapsed": false,
    "resultHeight": 356
   },
   "outputs": [],
   "source": "hist_data_end.describe()\n#hist_data_end.loc[11,'IPG2211A2N']",
   "execution_count": null
  },
  {
   "cell_type": "code",
   "id": "7292b7a8-9a44-4f21-bb19-a47443bc473a",
   "metadata": {
    "language": "python",
    "name": "cell58",
    "collapsed": false,
    "resultHeight": 426
   },
   "outputs": [],
   "source": "for i in range(len(hist_data_end)):\n    my_forecast_df2.loc[[397+i], 'ACTUAL'] = hist_data_end['IPG2211A2N'][11-i]\n\nmy_forecast_df2.tail(19).head(10)",
   "execution_count": null
  },
  {
   "cell_type": "markdown",
   "id": "54970509-8ba6-45a2-91bb-dc57355c42d4",
   "metadata": {
    "name": "cell59",
    "collapsed": false,
    "resultHeight": 41
   },
   "source": "Let's check the predicted values and compare with the real values."
  },
  {
   "cell_type": "code",
   "id": "930490c4-d84e-4f8f-8c45-dd412b9cc8c0",
   "metadata": {
    "language": "python",
    "name": "cell60",
    "collapsed": false,
    "resultHeight": 240
   },
   "outputs": [],
   "source": "# import ALtair module if have not imported yet\nimport altair as alt\n# Note: none of the officially suggested Y-axis range limitation worked for me, but the plot was created.\n# y = alt.Y('IPG2211A2N').scale(domain=(80, 140), clamp=True))\\\n# y = alt.Y('IPG2211A2N', scale = alt.Scale(domain=[80, 140]))\\\nbase = alt.Chart(my_forecast_df2.tail(25)).\\\n    encode(x = alt.X('DATE'),\\\n           y = alt.Y('IPG2211A2N').scale(domain=(80, 140), clamp=True))\\\n    .properties(title='Electronic Product - 14 days forecast')\n\nalt.layer(\n    base.mark_line(color='gray').encode(y='ACTUAL'),\n    base.mark_line(color='red').encode(y='UPPER_BOUND'),\n    base.mark_line(color='blue').encode(y='LOWER_BOUND'),\n    base.mark_line(color='yellow').encode(y='FORECAST')\n)",
   "execution_count": null
  },
  {
   "cell_type": "markdown",
   "id": "8c7cb518-66e5-46a5-9b5b-09827a6369bc",
   "metadata": {
    "name": "cell61",
    "collapsed": false,
    "resultHeight": 391
   },
   "source": "# Conclusion\nThe model is not perfect because one single historical data falls below the LOWER_BOUND (2018-03-01), but other real values fall in the determined [LOWER_BOUND & UPPER_BOUND] range. On the other hand we can state that forecasted values (in yellow) are close to historical data.\n\nFor a better model, more data or more/altered specifications are required for model training. New models with modified settings or withm ore data Then, you just have to use the best model (taking into account and avoiding the option of overfitting!). \n\n# Saving data to Table\nSave the data in the dataframe to a Table in the Snowflake Database ([save_as_table](https://docs.snowflake.com/en/developer-guide/snowpark/reference/python/latest/snowpark/api/snowflake.snowpark.DataFrameWriter.save_as_table)).\n\nNote that first pandas dataframe has to be converted to Spark dataframe, because the first one not, but the latter supplies saving to Table. And one more step to do in advance, get active session to create the Spark dataframe using session.create_dataframe() method."
  },
  {
   "cell_type": "code",
   "id": "fdef1ba7-a309-4bfd-a644-afacc77bb162",
   "metadata": {
    "language": "python",
    "name": "cell62",
    "collapsed": false,
    "resultHeight": 0,
    "codeCollapsed": false
   },
   "outputs": [],
   "source": "# df.write.mode(\"overwrite\").save_as_table(\"my_table\", table_type=\"temporary\"\nsession = get_active_session()\nmy_forecast_spark_df = session.create_dataframe(data=my_forecast_df2)\nsession.table('DataForecast').collect()\n",
   "execution_count": null
  },
  {
   "cell_type": "code",
   "id": "ad7d2fd1-ed52-45b4-8668-ec3ae16234b1",
   "metadata": {
    "language": "python",
    "name": "cell63"
   },
   "outputs": [],
   "source": "# write data to table\nmy_forecast_spark_df.write.mode('overwrite').save_as_table('DataForecast')",
   "execution_count": null
  },
  {
   "cell_type": "code",
   "id": "bd20309b-3675-49f4-8048-97d2c6b00f75",
   "metadata": {
    "language": "python",
    "name": "cell64",
    "collapsed": false,
    "resultHeight": 426
   },
   "outputs": [],
   "source": "df = session.sql('SELECT * FROM DATAFORECAST')\ndf.collect()\ndf.order_by('date', ascending = False).limit(10)",
   "execution_count": null
  },
  {
   "cell_type": "code",
   "id": "afc68958-992c-4b94-a591-a013be3cd687",
   "metadata": {
    "language": "python",
    "name": "cell65",
    "collapsed": false,
    "resultHeight": 87
   },
   "outputs": [],
   "source": "# or verify data writing into table, using SQL query with connection\n# this requires sqlalchemy to be imported in Snowflake environment!\n#df_table_check = read\nimport pandas as pd # or create Spark dataframe\nfrom sqlalchemy import create_engine\nfrom snowflake.sqlalchemy import URL\n#    schema = 'xxxx',\n#     warehouse = 'xxx',\n#     authenticator ='https://xxxxx.authenticator.com'\nurl = URL(\n    account = 'xxxx',\n    user = 'xxxx',\n    password = 'xxxx*',\n    database = 'xxxx',\n    role='xxxx',\n)\nengine = create_engine(url)\n\nconnection = engine.connect()\ndf_table_check = pd.read_sql('SELECT * FROM DATAFORECAST', connection)",
   "execution_count": null
  }
 ]
}