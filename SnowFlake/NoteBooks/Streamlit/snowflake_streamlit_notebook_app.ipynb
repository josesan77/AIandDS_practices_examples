{
 "metadata": {
  "kernelspec": {
   "display_name": "Streamlit Notebook",
   "name": "streamlit"
  }
 },
 "nbformat_minor": 5,
 "nbformat": 4,
 "cells": [
  {
   "cell_type": "code",
   "id": "3775908f-ca36-4846-8f38-5adca39217f2",
   "metadata": {
    "language": "python",
    "name": "cell1"
   },
   "source": "# Import python packages\nimport streamlit as st\nimport pandas as pd\n\n# We can also use Snowpark for our analyses!\nfrom snowflake.snowpark.context import get_active_session\nsession = get_active_session()\n",
   "execution_count": null,
   "outputs": []
  },
  {
   "cell_type": "code",
   "id": "8d50cbf4-0c8d-4950-86cb-114990437ac9",
   "metadata": {
    "language": "sql",
    "name": "cell2"
   },
   "source": "-- Welcome to Snowflake Notebooks!\n-- Try out a SQL cell to generate some data.\nSELECT 'FRIDAY' as SNOWDAY, 0.2 as CHANCE_OF_SNOW\nUNION ALL\nSELECT 'SATURDAY',0.5\nUNION ALL \nSELECT 'SUNDAY', 0.9;",
   "execution_count": null,
   "outputs": []
  },
  {
   "cell_type": "code",
   "id": "c695373e-ac74-4b62-a1f1-08206cbd5c81",
   "metadata": {
    "language": "python",
    "name": "cell3"
   },
   "source": "# Then, we can use the python name to turn cell2 into a Pandas dataframe\nmy_df = cell2.to_pandas()\n\n# Chart the data\nst.subheader(\"Chance of SNOW ❄️\")\nst.line_chart(my_df, x='SNOWDAY', y='CHANCE_OF_SNOW')\n\n# Give it a go!\nst.subheader(\"Try it out yourself and show off your skills 🥇\")",
   "execution_count": null,
   "outputs": []
  },
  {
   "cell_type": "markdown",
   "id": "67710be5-fa1c-46d3-a1dc-41ae9ab49757",
   "metadata": {
    "name": "cell9",
    "collapsed": false
   },
   "source": "# Streamlit slider for interactive data selection\nFirst, data is demonstrated from Tasty Bytes dataset (tutorial data) for such entries where the company is the 'Freezing Point'."
  },
  {
   "cell_type": "code",
   "id": "0bac7f23-3eed-4ab6-a1e2-43f9e29b492e",
   "metadata": {
    "language": "python",
    "name": "cell4",
    "collapsed": false,
    "codeCollapsed": false
   },
   "outputs": [],
   "source": "import snowflake.snowpark as snowpark\nfrom snowflake.snowpark.functions import col\nfrom snowflake.snowpark.context import get_active_session\nsession = get_active_session()\n\ndf_menu_freezing_point = session.table(\"tasty_bytes_sample_data.raw_pos.menu\").filter(col(\"truck_brand_name\") == 'Freezing Point')\ndf_menu_freezing_point",
   "execution_count": null
  },
  {
   "cell_type": "code",
   "id": "8765c7f7-4fec-4465-9744-9c89b600370e",
   "metadata": {
    "language": "python",
    "name": "cell11",
    "collapsed": false
   },
   "outputs": [],
   "source": "from snowflake.snowpark.functions import min, max\ndf_menu_freezing_point.agg(min('SALE_PRICE_USD'), max('SALE_PRICE_USD')).show()",
   "execution_count": null
  },
  {
   "cell_type": "markdown",
   "id": "c835f577-9eb8-4995-9be8-1141f0cc2396",
   "metadata": {
    "name": "cell10",
    "collapsed": false
   },
   "source": "Set the (interactive) slider as the minimum value of price to limit/filter results. Sale price ranges from 1 to 20 in the full dataset of Tasty Bytes and ranges from 1 to 7 for company Freezing Point."
  },
  {
   "cell_type": "code",
   "id": "ce4fdd92-746f-4419-8895-e4b437c7f24b",
   "metadata": {
    "language": "python",
    "name": "cell5",
    "collapsed": false,
    "codeCollapsed": false
   },
   "outputs": [],
   "source": "import streamlit as st\nst.markdown(\"# Move the slider to define lower price limit to filter data\")\n#col1 = st.columns(1)\n#with col1:\nmin_price = st.slider('Define min_price', 1, 20, 2)",
   "execution_count": null
  },
  {
   "cell_type": "markdown",
   "id": "d357da18-c2ac-4d02-bfac-41a07479f913",
   "metadata": {
    "name": "cell12",
    "collapsed": false
   },
   "source": "SQL query below runs on the complete database, filtered according to above set minimum sale price value."
  },
  {
   "cell_type": "code",
   "id": "f1174628-9db5-4536-a9ad-c4672f1e6e3c",
   "metadata": {
    "language": "sql",
    "name": "cell6",
    "collapsed": false,
    "codeCollapsed": false
   },
   "outputs": [],
   "source": "SELECT truck_brand_name, menu_item_name, sale_price_usd\nFROM tasty_bytes_sample_data.raw_pos.menu\nWHERE sale_price_usd > {{min_price}}",
   "execution_count": null
  },
  {
   "cell_type": "markdown",
   "id": "b300b396-42f7-4764-930b-3fc5d078c785",
   "metadata": {
    "name": "cell13",
    "collapsed": false
   },
   "source": "Python code uses above set minimum value (min_price) on the dataset filtered for Freezing Point company. "
  },
  {
   "cell_type": "code",
   "id": "b973d9ed-6dd3-46b0-9f82-815c5d8000c9",
   "metadata": {
    "language": "python",
    "name": "cell7",
    "collapsed": false,
    "codeCollapsed": false
   },
   "outputs": [],
   "source": "df_menu_freezing_point[df_menu_freezing_point['SALE_PRICE_USD'] > min_price][['TRUCK_BRAND_NAME','MENU_ITEM_NAME','SALE_PRICE_USD']]",
   "execution_count": null
  },
  {
   "cell_type": "code",
   "id": "a467183e-38f2-4cbb-86eb-0abfac862bb4",
   "metadata": {
    "language": "python",
    "name": "cell8"
   },
   "outputs": [],
   "source": "",
   "execution_count": null
  }
 ]
}