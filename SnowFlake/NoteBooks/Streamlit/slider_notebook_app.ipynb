{
 "metadata": {
  "kernelspec": {
   "display_name": "Streamlit Notebook",
   "name": "streamlit"
  }
 },
 "nbformat_minor": 5,
 "nbformat": 4,
 "cells": [
  {
   "cell_type": "markdown",
   "id": "db17121c-0b32-40e0-91d2-bf680d067ec3",
   "metadata": {
    "name": "cell1",
    "collapsed": false,
    "resultHeight": 115
   },
   "source": "# Streamlit slider for interactive data selection\n\nNote: Session can be used for several reasons, see more in [Snowflake Session documentation]( https://docs.snowflake.com/en/developer-guide/snowpark/reference/python/1.25.0/snowpark/api/snowflake.snowpark.Session#snowflake.snowpark.Session)."
  },
  {
   "cell_type": "code",
   "id": "3775908f-ca36-4846-8f38-5adca39217f2",
   "metadata": {
    "language": "python",
    "name": "cell2",
    "collapsed": false,
    "resultHeight": 0,
    "codeCollapsed": false
   },
   "source": "# Import python packages\nimport streamlit as st #allows interaction\nimport pandas as pd #dataframe support\n\n# get current session\nfrom snowflake.snowpark.context import get_active_session\nsession = get_active_session()\nimport snowflake.snowpark as snowpark\nfrom snowflake.snowpark.functions import col",
   "execution_count": null,
   "outputs": []
  },
  {
   "cell_type": "markdown",
   "id": "67710be5-fa1c-46d3-a1dc-41ae9ab49757",
   "metadata": {
    "name": "cell3",
    "collapsed": false,
    "resultHeight": 67
   },
   "source": "Previously, data was loaded from Tasty Bytes dataset (sample data on Snowflake), then demonstrated (in table) for such entries where the company is called 'Freezing Point'."
  },
  {
   "cell_type": "code",
   "id": "0bac7f23-3eed-4ab6-a1e2-43f9e29b492e",
   "metadata": {
    "language": "python",
    "name": "cell4",
    "collapsed": false,
    "codeCollapsed": false,
    "resultHeight": 426
   },
   "outputs": [],
   "source": "df_menu_freezing_point = session.table(\"tasty_bytes_sample_data.raw_pos.menu\")\\\n.filter(col(\"truck_brand_name\") == 'Freezing Point')\ndf_menu_freezing_point",
   "execution_count": null
  },
  {
   "cell_type": "markdown",
   "id": "ea2b43fa-9f19-4d09-b0bf-390941a630f6",
   "metadata": {
    "name": "cell5",
    "collapsed": false,
    "resultHeight": 67
   },
   "source": "Let's find the minimum and maximum of SALE_PRIVE_USD column to know the limits. At first using describe(), but (!) it requires a table (= at least two columns, as shown below)."
  },
  {
   "cell_type": "code",
   "id": "dac97569-23d4-4061-87b4-eba7dea63ece",
   "metadata": {
    "language": "python",
    "name": "cell6",
    "collapsed": false,
    "codeCollapsed": false,
    "resultHeight": 251
   },
   "outputs": [],
   "source": "df_menu_freezing_point['MENU_TYPE_ID', 'SALE_PRICE_USD'].describe()",
   "execution_count": null
  },
  {
   "cell_type": "code",
   "id": "8765c7f7-4fec-4465-9744-9c89b600370e",
   "metadata": {
    "language": "python",
    "name": "cell7",
    "collapsed": false,
    "resultHeight": 127,
    "codeCollapsed": false
   },
   "outputs": [],
   "source": "from snowflake.snowpark.functions import min, max\ndf_menu_freezing_point.agg(min('SALE_PRICE_USD'), max('SALE_PRICE_USD')).show()",
   "execution_count": null
  },
  {
   "cell_type": "markdown",
   "id": "c835f577-9eb8-4995-9be8-1141f0cc2396",
   "metadata": {
    "name": "cell8",
    "collapsed": false,
    "resultHeight": 67
   },
   "source": "Set the (interactive) slider as the minimum value of price to limit/filter results. Sale price ranges from 1 to 20 in the full dataset of Tasty Bytes and ranges from 2 to 7 for company Freezing Point."
  },
  {
   "cell_type": "code",
   "id": "ce4fdd92-746f-4419-8895-e4b437c7f24b",
   "metadata": {
    "language": "python",
    "name": "cell10",
    "collapsed": false,
    "codeCollapsed": false,
    "resultHeight": 318
   },
   "outputs": [],
   "source": "import streamlit as st\nst.markdown(\"## Move the slider to define lower price limit to filter data\")\nmin_price = st.slider('Define min_price', 2, 7, 2)\nst.markdown(\"## Move the slider to define higher price limit to filter data\")\nmax_price = st.slider('Define max_price', 2, 7, 7)",
   "execution_count": null
  },
  {
   "cell_type": "markdown",
   "id": "d357da18-c2ac-4d02-bfac-41a07479f913",
   "metadata": {
    "name": "cell11",
    "collapsed": false,
    "resultHeight": 127
   },
   "source": "## SQL example\nSQL query below runs on the complete database, filtered according to above set minimum and maximum sale price values."
  },
  {
   "cell_type": "code",
   "id": "f1174628-9db5-4536-a9ad-c4672f1e6e3c",
   "metadata": {
    "language": "sql",
    "name": "cell12",
    "collapsed": false,
    "codeCollapsed": false,
    "resultHeight": 438
   },
   "outputs": [],
   "source": "SELECT truck_brand_name, menu_item_name, sale_price_usd\nFROM tasty_bytes_sample_data.raw_pos.menu\nWHERE sale_price_usd > {{min_price}} AND sale_price_usd < {{max_price}}",
   "execution_count": null
  },
  {
   "cell_type": "markdown",
   "id": "b300b396-42f7-4764-930b-3fc5d078c785",
   "metadata": {
    "name": "cell13",
    "collapsed": false,
    "resultHeight": 41
   },
   "source": "Python code uses above set minimum value (min_price) on the dataset filtered for Freezing Point company. "
  },
  {
   "cell_type": "code",
   "id": "b973d9ed-6dd3-46b0-9f82-815c5d8000c9",
   "metadata": {
    "language": "python",
    "name": "cell14",
    "collapsed": false,
    "codeCollapsed": false,
    "resultHeight": 391
   },
   "outputs": [],
   "source": "df_menu_freezing_point[df_menu_freezing_point['SALE_PRICE_USD'] > min_price]\\\n[['TRUCK_BRAND_NAME','MENU_ITEM_NAME','SALE_PRICE_USD']]",
   "execution_count": null
  },
  {
   "cell_type": "markdown",
   "id": "616615cf-1ce9-4117-834e-32b8b202faf8",
   "metadata": {
    "name": "cell15",
    "collapsed": false,
    "resultHeight": 41
   },
   "source": "or use both limits:"
  },
  {
   "cell_type": "code",
   "id": "a467183e-38f2-4cbb-86eb-0abfac862bb4",
   "metadata": {
    "language": "python",
    "name": "cell16",
    "codeCollapsed": false,
    "collapsed": false,
    "resultHeight": 356
   },
   "outputs": [],
   "source": "df_selected = df_menu_freezing_point[(df_menu_freezing_point['SALE_PRICE_USD'] > min_price) \\\n& (df_menu_freezing_point['SALE_PRICE_USD'] < max_price)]\\\n[['TRUCK_BRAND_NAME','MENU_ITEM_NAME','SALE_PRICE_USD']]\ndf_selected",
   "execution_count": null
  },
  {
   "cell_type": "markdown",
   "id": "f1857ce1-7c39-448d-84c5-94723e29ccaf",
   "metadata": {
    "name": "cell17",
    "collapsed": false,
    "resultHeight": 134
   },
   "source": "To update limits first move the sliders according to your demands, and then run the cells below (depending on the dynamic values of) the sliders.\n\nNote: that related data tables or visualisation does not change automatically on changing values on the slider(s)!"
  },
  {
   "cell_type": "code",
   "id": "1338ba20-1a93-4762-a3ad-e6f18ad2a12b",
   "metadata": {
    "language": "python",
    "name": "cell18",
    "collapsed": false,
    "codeCollapsed": false,
    "resultHeight": 251
   },
   "outputs": [],
   "source": "df_selected.describe()",
   "execution_count": null
  }
 ]
}